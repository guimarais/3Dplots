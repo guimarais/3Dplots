{
 "cells": [
  {
   "cell_type": "code",
   "execution_count": 1,
   "metadata": {},
   "outputs": [],
   "source": [
    "import numpy as np\n",
    "import matplotlib.pyplot as plt\n",
    "#%matplotlib notebook\n",
    "plt.style.use('darklab')\n",
    "from mpl_toolkits.mplot3d import Axes3D\n",
    "import pandas as pd\n",
    "import seaborn as sns"
   ]
  },
  {
   "cell_type": "code",
   "execution_count": 2,
   "metadata": {},
   "outputs": [],
   "source": [
    "# settings\n",
    "numberProfiles = 1000\n",
    "startTimeUsec = 0\n",
    "incrementTimeUsec = 500\n",
    "profileNumberOfPoints = 256\n",
    "radialPositionFileName = './Files/marte_allprofiles/ProfileRadialPosition.gz'\n",
    "radialDensityFileName = './Files/marte_allprofiles/ProfileRadialDensity.gz'"
   ]
  },
  {
   "cell_type": "code",
   "execution_count": 3,
   "metadata": {},
   "outputs": [],
   "source": [
    "timeAxis = np.arange(startTimeUsec, numberProfiles*incrementTimeUsec, incrementTimeUsec)"
   ]
  },
  {
   "cell_type": "code",
   "execution_count": 4,
   "metadata": {},
   "outputs": [],
   "source": [
    "file = open(radialPositionFileName, \"rb\")\n",
    "radialPosition = np.fromfile(file, '<f4')\n",
    "file.close()\n",
    "file = open(radialDensityFileName, \"rb\")\n",
    "radialDensity = np.fromfile(file, '<f4')\n",
    "file.close()"
   ]
  },
  {
   "cell_type": "code",
   "execution_count": 5,
   "metadata": {},
   "outputs": [],
   "source": [
    "radialPositionArray = np.zeros((numberProfiles, profileNumberOfPoints))\n",
    "for i in range(numberProfiles):\n",
    "    radialPositionArray[i][0:profileNumberOfPoints] = radialPosition[(0 + i*profileNumberOfPoints):(profileNumberOfPoints  + i*profileNumberOfPoints)]"
   ]
  },
  {
   "cell_type": "code",
   "execution_count": 6,
   "metadata": {},
   "outputs": [],
   "source": [
    "radialDensityArray = np.zeros((numberProfiles, profileNumberOfPoints))\n",
    "for i in range(numberProfiles):\n",
    "    radialDensityArray[i][0:profileNumberOfPoints] = radialDensity[(0 + i*profileNumberOfPoints):(profileNumberOfPoints + i*profileNumberOfPoints)]"
   ]
  },
  {
   "cell_type": "code",
   "execution_count": 7,
   "metadata": {},
   "outputs": [],
   "source": [
    "nt = np.zeros(1000*256)\n",
    "nn = np.zeros(1000*256)\n",
    "nr = np.zeros(1000*256)"
   ]
  },
  {
   "cell_type": "code",
   "execution_count": 11,
   "metadata": {},
   "outputs": [],
   "source": [
    "f = open(\"demo.txt\", \"w\")\n",
    "\n",
    "for i in range(tpts):\n",
    "    for j in range(256):\n",
    "        f.write(\"%f %f %f\\n\"%(timeAxis[i], radialDensityArray[i][j], radialPositionArray[i][j]))\n",
    "    f.write(\"\\n\")\n",
    "\n",
    "f.close()"
   ]
  },
  {
   "cell_type": "code",
   "execution_count": null,
   "metadata": {},
   "outputs": [],
   "source": []
  }
 ],
 "metadata": {
  "kernelspec": {
   "display_name": "Python 3",
   "language": "python",
   "name": "python3"
  },
  "language_info": {
   "codemirror_mode": {
    "name": "ipython",
    "version": 3
   },
   "file_extension": ".py",
   "mimetype": "text/x-python",
   "name": "python",
   "nbconvert_exporter": "python",
   "pygments_lexer": "ipython3",
   "version": "3.7.3"
  }
 },
 "nbformat": 4,
 "nbformat_minor": 4
}
